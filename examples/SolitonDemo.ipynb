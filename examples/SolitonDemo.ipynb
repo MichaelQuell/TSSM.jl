{
 "cells": [
  {
   "cell_type": "code",
   "execution_count": 1,
   "metadata": {
    "collapsed": false,
    "scrolled": true
   },
   "outputs": [
    {
     "name": "stdout",
     "output_type": "stream",
     "text": [
      " *** OPENMP n_threads =           8\n"
     ]
    }
   ],
   "source": [
    "using TSSM\n",
    "using PyPlot\n",
    "include(\"time_stepper.jl\");"
   ]
  },
  {
   "cell_type": "markdown",
   "metadata": {},
   "source": [
    "## Nonlinear Schrödinger equation without potential\n",
    "\n",
    "The soliton\n",
    "$$\\psi_\\mathrm{ex}(x,t)=\\frac{a\\mathrm{e}^{\\frac{1}{2}\\mathrm{i}((a^2-b^2)t-bx)}}{\\cosh(a(bt+x-c))}$$ \n",
    "is the exact solution of the cubic nonlinear Schrödinger\n",
    "$$\\mathrm{i}\\frac{\\partial}{\\partial t}\\psi(x,t)=-\\frac{1}{2}\\Delta\\psi(x,t)+\\kappa|\\psi(x,t)|^2\\psi(x,t),\n",
    "\\quad \\psi(x,0) = \\psi_\\mathrm{ex}(x,0),$$\n",
    "where the cubic coupling parameter $\\kappa=-1$, and $a,b,c\\in\\mathbb{R}$ are arbitrarily chosen parameters. "
   ]
  },
  {
   "cell_type": "code",
   "execution_count": 2,
   "metadata": {
    "collapsed": false
   },
   "outputs": [
    {
     "data": {
      "text/plain": [
       "soliton (generic function with 1 method)"
      ]
     },
     "execution_count": 2,
     "metadata": {},
     "output_type": "execute_result"
    }
   ],
   "source": [
    "const κ = -1\n",
    "const a = 2\n",
    "const b = 1\n",
    "const c = 0\n",
    "function soliton(x, t)\n",
    "    h = (a^2 - b^2)/2*t - b*x\n",
    "    (a./cosh(a*(b*t+x-c))).*exp(1im*h) \n",
    "end    "
   ]
  },
  {
   "cell_type": "markdown",
   "metadata": {},
   "source": [
    "We use a Fourier spectral method on the computational domain  $[x_\\mathrm{min},x_\\mathrm{max}]=[-16,16]$ with $n_x=2048$ discretization points:"
   ]
  },
  {
   "cell_type": "code",
   "execution_count": 3,
   "metadata": {
    "collapsed": false
   },
   "outputs": [
    {
     "data": {
      "text/plain": [
       "TSSM.Schroedinger1D{Float64}(Ptr{Void} @0x000000000499c7d0)"
      ]
     },
     "execution_count": 3,
     "metadata": {},
     "output_type": "execute_result"
    }
   ],
   "source": [
    "nx = 2048\n",
    "xmin = -16\n",
    "xmax = +16\n",
    "method = Schroedinger1D(nx, xmin, xmax, cubic_coupling=κ)"
   ]
  },
  {
   "cell_type": "markdown",
   "metadata": {},
   "source": [
    "We integrate from $t_0=0$ to $t_\\mathrm{end}=1$ with initial data $\\psi_\\mathrm{ex}(x,t_0)$. As reference solution to be compared with the numerical solution at $t=t_\\mathrm{end}$ we use the exact solution $\\psi_\\mathrm{ex}(x,t_\\mathrm{end})$:"
   ]
  },
  {
   "cell_type": "code",
   "execution_count": 4,
   "metadata": {
    "collapsed": false
   },
   "outputs": [],
   "source": [
    "t0 = 0\n",
    "tend = 1\n",
    "psi = wave_function(method)\n",
    "psi_ref = wave_function(method)\n",
    "set!(psi, soliton, t0)        # initial data at t=t0\n",
    "set!(psi_ref, soliton, tend)  # reference solution at t=tend"
   ]
  },
  {
   "cell_type": "code",
   "execution_count": 5,
   "metadata": {
    "collapsed": false
   },
   "outputs": [
    {
     "data": {
      "image/png": "[encoded data removed]",
      "text/plain": [
       "PyPlot.Figure(PyObject <matplotlib.figure.Figure object at 0x7fd4c00f8d50>)"
      ]
     },
     "metadata": {},
     "output_type": "display_data"
    }
   ],
   "source": [
    "plot(get_nodes(method), abs(get_data(psi)).^2)\n",
    "hold(true)\n",
    "plot(get_nodes(method), abs(get_data(psi_ref)).^2)\n",
    "hold(false)"
   ]
  },
  {
   "cell_type": "markdown",
   "metadata": {},
   "source": [
    "Global error at $t=t_\\mathrm{end}$ for Strang splitting:"
   ]
  },
  {
   "cell_type": "code",
   "execution_count": 6,
   "metadata": {
    "collapsed": false,
    "scrolled": true
   },
   "outputs": [
    {
     "name": "stdout",
     "output_type": "stream",
     "text": [
      "             dt         err      p\n",
      "-----------------------------------\n",
      "  1   1.000e+00   1.586e+00\n",
      "  2   5.000e-01   9.603e-01   0.72\n",
      "  3   2.500e-01   4.448e-01   1.11\n",
      "  4   1.250e-01   1.502e-01   1.57\n",
      "  5   6.250e-02   4.157e-02   1.85\n",
      "  6   3.125e-02   1.071e-02   1.96\n",
      "  7   1.563e-02   2.698e-03   1.99\n",
      "  8   7.813e-03   6.758e-04   2.00\n",
      "  9   3.906e-03   1.690e-04   2.00\n",
      " 10   1.953e-03   4.226e-05   2.00\n",
      " 11   9.766e-04   1.057e-05   2.00\n",
      " 12"
     ]
    }
   ],
   "source": [
    "global_orders(psi, psi_ref, t0, tend, tend-t0, scheme=Strang, rows=12) \n",
    "; "
   ]
  },
  {
   "cell_type": "markdown",
   "metadata": {},
   "source": [
    "Next we use a scheme of order 5 (method \"PP 5/6 A\" from http://www.asc.tuwien.ac.at/~winfried/splitting):\n"
   ]
  },
  {
   "cell_type": "code",
   "execution_count": 7,
   "metadata": {
    "collapsed": false
   },
   "outputs": [
    {
     "name": "stdout",
     "output_type": "stream",
     "text": [
      "   4.883e-04   2.642e-06   2.00\n",
      "             dt         err      p\n",
      "-----------------------------------\n",
      "  1   1.000e+00   2.041e+00\n",
      "  2   5.000e-01   5.641e-01   1.85\n",
      "  3   2.500e-01   8.913e-02   2.66\n",
      "  4   1.250e-01   7.838e-03   3.51\n",
      "  5   6.250e-02   3.703e-04   4.40\n",
      "  6   3.125e-02   5.960e-06   5.96\n",
      "  7   1.563e-02   5.499e-08   6.76\n",
      "  8   7.813e-03   1.083e-09   5.67\n",
      "  9   3.906e-03   2.675e-11   5.34\n",
      " 10"
     ]
    }
   ],
   "source": [
    "scheme_5 = ( 0.201651044312324230,   0.578800656272664932, \n",
    "             0.562615975356569200,   0.273128836056524479, \n",
    "             0.253874038247554845,  -0.102733803148432142, \n",
    "            -0.835351693190370636,   0.068014946093165092, \n",
    "             0.068014946093165092,  -0.835351693190370636,\n",
    "            -0.102733803148432142,   0.253874038247554845, \n",
    "             0.273128836056524479,   0.562615975356569200, \n",
    "             0.578800656272664932,   0.201651044312324230 )          \n",
    "global_orders(psi, psi_ref, t0, tend, tend-t0, scheme=scheme_5, rows=10) \n",
    ";"
   ]
  },
  {
   "cell_type": "markdown",
   "metadata": {},
   "source": [
    "## Linear Schrödinger equation with time dependent potential\n",
    "\n",
    "The exact solution of the *linear* Schrödinger equation\n",
    "$$\\mathrm{i}\\frac{\\partial}{\\partial t}\\psi(x,t)=-\\frac{1}{2}\\Delta\\psi(x,t)+V(x,t)\\psi(x,t),\n",
    "\\quad \\psi(x,0) = \\psi_\\mathrm{ex}(x,0),$$\n",
    "with time dependent potential\n",
    "$$V(x,t)=\\kappa|\\psi_\\mathrm{ex}(x,t)|^2=\\frac{\\kappa a^2}{\\cosh(a(bt+x-c))^2}$$\n",
    "is by construction $\\psi_\\mathrm{ex}(x,t)$ form above."
   ]
  },
  {
   "cell_type": "code",
   "execution_count": 8,
   "metadata": {
    "collapsed": true
   },
   "outputs": [],
   "source": [
    "#V1(x,t) = κ*abs(soliton(x,t)).^2\n",
    "V1(x,t) = κ*a^2./cosh(a*(b*t+x-c)).^2\n",
    "method = Schroedinger1D(nx, xmin, xmax, potential_t=V1)\n",
    "psi = wave_function(method)\n",
    "psi_ref = wave_function(method)\n",
    "set!(psi, soliton, t0)        # initial data at t=t0\n",
    "set!(psi_ref, soliton, tend)  # reference solution at t=tend"
   ]
  },
  {
   "cell_type": "code",
   "execution_count": 9,
   "metadata": {
    "collapsed": false,
    "scrolled": false
   },
   "outputs": [
    {
     "data": {
      "image/png": "[encoded data removed]",
      "text/plain": [
       "PyPlot.Figure(PyObject <matplotlib.figure.Figure object at 0x7fd4bc342550>)"
      ]
     },
     "metadata": {},
     "output_type": "display_data"
    }
   ],
   "source": [
    "plot(get_nodes(method), get_potential_t(method, 0))\n",
    "hold(true)\n",
    "plot(get_nodes(method), get_potential_t(method, 1))\n",
    "hold(false)"
   ]
  },
  {
   "cell_type": "markdown",
   "metadata": {},
   "source": [
    "We use the the scheme of order 5 from above:"
   ]
  },
  {
   "cell_type": "code",
   "execution_count": 10,
   "metadata": {
    "collapsed": false
   },
   "outputs": [
    {
     "name": "stdout",
     "output_type": "stream",
     "text": [
      "   1.953e-03   1.161e-12   4.53\n",
      "             dt         err      p\n",
      "-----------------------------------\n",
      "  1   1.000e+00   1.193e+00\n",
      "  2   5.000e-01   2.502e-01   2.25\n",
      "  3   2.500e-01   2.749e-02   3.19\n",
      "  4   1.250e-01   2.231e-03   3.62\n",
      "  5   6.250e-02   1.215e-04   4.20\n",
      "  6   3.125e-02   2.019e-06   5.91\n",
      "  7   1.563e-02   1.338e-08   7.24\n",
      "  8   7.813e-03   3.629e-10   5.20\n",
      "  9   3.906e-03   1.116e-11   5.02\n",
      " 10"
     ]
    }
   ],
   "source": [
    "global_orders(psi, psi_ref, t0, tend, tend-t0, scheme=scheme_5, rows=10) \n",
    ";"
   ]
  },
  {
   "cell_type": "markdown",
   "metadata": {},
   "source": [
    "Note that time is propagated together with operator A by default:"
   ]
  },
  {
   "cell_type": "code",
   "execution_count": 11,
   "metadata": {
    "collapsed": false
   },
   "outputs": [
    {
     "data": {
      "text/plain": [
       "true"
      ]
     },
     "execution_count": 11,
     "metadata": {},
     "output_type": "execute_result"
    },
    {
     "name": "stdout",
     "output_type": "stream",
     "text": [
      "   1.953e-03   6.016e-13   4.21\n"
     ]
    }
   ],
   "source": [
    "get_propagate_time_together_with_A(method)"
   ]
  },
  {
   "cell_type": "markdown",
   "metadata": {},
   "source": [
    "We can propagate time explicitly, i.e. use an ABC scheme where time is propagated by operator C.\n",
    "For this we have to specify, that time should not be propagated together with operator A (otherwise time would be propagated twice).\n",
    "We use an ABC scheme of order 3 (method \"PP 3/4 A 3\" from http://www.asc.tuwien.ac.at/~winfried/splitting):\n"
   ]
  },
  {
   "cell_type": "code",
   "execution_count": 12,
   "metadata": {
    "collapsed": false
   },
   "outputs": [
    {
     "name": "stdout",
     "output_type": "stream",
     "text": [
      "             dt         err      p\n",
      "-----------------------------------\n",
      "  1   1.000e+00   1.341e+00\n",
      "  2   5.000e-01   4.789e-01   1.49\n",
      "  3   2.500e-01   9.634e-02   2.31\n",
      "  4   1.250e-01   1.148e-02   3.07\n",
      "  5   6.250e-02   1.110e-03   3.37\n",
      "  6   3.125e-02   1.249e-04   3.15\n",
      "  7   1.563e-02   1.552e-05   3.01\n",
      "  8   7.813e-03   1.938e-06   3.00\n",
      "  9   3.906e-03   2.421e-07   3.00\n",
      " 10"
     ]
    }
   ],
   "source": [
    "set_propagate_time_together_with_A!(method, false)\n",
    "#ABC scheme PP 3/4 A 3 \n",
    "scheme_3 = (  0.461601939364879971, -0.266589223588183997,  -0.360420727960349671,\n",
    "             -0.0678710530507800801, 0.0924576733143338354,  0.579154058410941403,\n",
    "             -0.0958868852260720250, 0.674131550273850162,   0.483422668461380403,\n",
    "              0.483422668461380403,  0.674131550273850162,  -0.0958868852260720250,\n",
    "              0.579154058410941403,  0.0924576733143338354, -0.0678710530507800801,\n",
    "             -0.360420727960349671, -0.266589223588183997,   0.461601939364879971 )\n",
    "global_orders(psi, psi_ref, t0, tend, tend-t0, scheme=scheme_3, rows=10, \n",
    "              operator_sequence=\"ABT\") \n",
    ";"
   ]
  },
  {
   "cell_type": "code",
   "execution_count": 13,
   "metadata": {
    "collapsed": false
   },
   "outputs": [
    {
     "name": "stdout",
     "output_type": "stream",
     "text": [
      "   1.953e-03   3.027e-08   3.00\n",
      "             dt         err      p\n",
      "-----------------------------------\n",
      "  1   1.000e+00   1.128e+00\n",
      "  2   5.000e-01   5.461e-01   1.05\n",
      "  3   2.500e-01   1.794e-01   1.61\n",
      "  4   1.250e-01   3.064e-02   2.55\n",
      "  5   6.250e-02   2.031e-03   3.91\n",
      "  6   3.125e-02   5.079e-05   5.32\n",
      "  7   1.563e-02   3.790e-06   3.74\n",
      "  8   7.813e-03   4.429e-07   3.10\n",
      "  9   3.906e-03   5.441e-08   3.03\n",
      " 10"
     ]
    }
   ],
   "source": [
    "global_orders(psi, psi_ref, t0, tend, tend-t0, scheme=scheme_3, rows=10, \n",
    "              operator_sequence=\"ATB\") \n",
    ";"
   ]
  },
  {
   "cell_type": "markdown",
   "metadata": {},
   "source": [
    "## Nonlinear Schrödinger equation with time dependent potential\n",
    "\n",
    "The exact solution of the *nonlinear* Schrödinger equation\n",
    "$$\\mathrm{i}\\frac{\\partial}{\\partial t}\\psi(x,t)=-\\frac{1}{2}\\Delta\\psi(x,t)+V_\\alpha(x,t)\\psi(x,t)+\\alpha\\kappa|\\psi(x,t)|^2\\psi(x,t),\\quad\\psi(x,0) = \\psi_\\mathrm{ex}(x,0),$$\n",
    "with time dependent potential\n",
    "$$V_\\alpha(x,t)= (1-\\alpha)\\kappa|\\psi_\\mathrm{ex}(x,t)|^2=\\frac{(1-\\alpha)\\kappa a^2}{\\cosh(a(bt+x-c))^2}$$\n",
    "and, e.g., $\\alpha=\\frac{1}{2}$ is again given by $\\psi_\\mathrm{ex}(x,t)$ form above."
   ]
  },
  {
   "cell_type": "code",
   "execution_count": 14,
   "metadata": {
    "collapsed": false
   },
   "outputs": [],
   "source": [
    "const α=0.5\n",
    "#V2(x,t) = (1-α)*κ*abs(soliton(x,t)).^2\n",
    "V2(x,t) = (1-α)*κ*a^2./cosh(a*(b*t+x-c)).^2\n",
    "method = Schroedinger1D(nx, xmin, xmax, potential_t=V2, cubic_coupling=α*κ)\n",
    "psi = wave_function(method)\n",
    "psi_ref = wave_function(method)\n",
    "set!(psi, soliton, t0)        # initial data at t=t0\n",
    "set!(psi_ref, soliton, tend)  # reference solution at t=tend"
   ]
  },
  {
   "cell_type": "code",
   "execution_count": 15,
   "metadata": {
    "collapsed": false
   },
   "outputs": [
    {
     "name": "stdout",
     "output_type": "stream",
     "text": [
      "   1.953e-03   6.771e-09   3.01\n",
      "             dt         err      p\n",
      "-----------------------------------\n",
      "  1   1.000e+00   1.903e+00\n",
      "  2   5.000e-01   4.186e-01   2.18\n",
      "  3   2.500e-01   5.423e-02   2.95\n",
      "  4   1.250e-01   4.485e-03   3.60\n",
      "  5   6.250e-02   2.065e-04   4.44\n",
      "  6   3.125e-02   3.142e-06   6.04\n",
      "  7   1.563e-02   2.569e-08   6.93\n",
      "  8   7.813e-03   6.290e-10   5.35\n",
      "  9   3.906e-03   1.839e-11   5.10\n",
      " 10"
     ]
    }
   ],
   "source": [
    "global_orders(psi, psi_ref, t0, tend, tend-t0, scheme=scheme_5, rows=10) \n",
    ";"
   ]
  },
  {
   "cell_type": "code",
   "execution_count": 16,
   "metadata": {
    "collapsed": false
   },
   "outputs": [
    {
     "name": "stdout",
     "output_type": "stream",
     "text": [
      "   1.953e-03   8.389e-13   4.45\n",
      "             dt         err      p\n",
      "-----------------------------------\n",
      "  1   1.000e+00   1.128e+00\n",
      "  2   5.000e-01   4.499e-01   1.33\n",
      "  3   2.500e-01   9.886e-02   2.19\n",
      "  4   1.250e-01   1.328e-02   2.90\n",
      "  5   6.250e-02   1.170e-03   3.50\n",
      "  6   3.125e-02   1.169e-04   3.32\n",
      "  7   1.563e-02   1.437e-05   3.02\n",
      "  8   7.813e-03   1.793e-06   3.00\n",
      "  9   3.906e-03   2.241e-07   3.00\n",
      " 10"
     ]
    }
   ],
   "source": [
    "set_propagate_time_together_with_A!(method, false)\n",
    "global_orders(psi, psi_ref, t0, tend, tend-t0, scheme=scheme_3, rows=10,\n",
    "              operator_sequence=\"ABT\") \n",
    ";"
   ]
  },
  {
   "cell_type": "markdown",
   "metadata": {},
   "source": [
    "## Error estimators"
   ]
  },
  {
   "cell_type": "markdown",
   "metadata": {},
   "source": [
    "### Embedded Schemes"
   ]
  },
  {
   "cell_type": "code",
   "execution_count": 17,
   "metadata": {
    "collapsed": false
   },
   "outputs": [
    {
     "name": "stdout",
     "output_type": "stream",
     "text": [
      "   1.953e-03   2.803e-08   3.00\n",
      "             dt         err      p         err      p\n",
      "------------------------------------------------------\n",
      "  1   1.000e+00   1.984e+00          1.903e+00\n",
      "  2   5.000e-01   3.451e-01   2.52   2.805e-01   2.76\n",
      "  3   2.500e-01   3.316e-02   3.38   2.582e-02   3.44\n",
      "  4   1.250e-01   2.105e-03   3.98   1.609e-03   4.00\n",
      "  5   6.250e-02   8.829e-05   4.58   6.257e-05   4.68\n",
      "  6   3.125e-02   2.459e-06   5.17   1.380e-06   5.50\n",
      "  7   1.563e-02   5.667e-08   5.44   2.049e-08   6.07\n",
      "  8   7.813e-03   1.428e-09   5.31   2.925e-10   6.13\n",
      "  9   3.906e-03   4.101e-11   5.12   4.418e-12   6.05\n",
      " 10   1.953e-03   1.251e-12   5.04   6.869e-14   6.01\n"
     ]
    }
   ],
   "source": [
    "scheme_5A = ( 0.201651044312324230,   0.578800656272664932, \n",
    "              0.562615975356569200,   0.273128836056524479, \n",
    "              0.253874038247554845,  -0.102733803148432142, \n",
    "             -0.726560425753743689,  -0.800888361904193390,\n",
    "             -0.0944858667147550235,  0.259957296127666422,\n",
    "              0.246962230324312930,   0.594143062900597984,\n",
    "              0.5559430042277375075,  0.197592313695171715 )\n",
    "set_propagate_time_together_with_A!(method, true)\n",
    "local_orders(psi, soliton, t0, tend-t0, EmbeddedScheme(scheme_5A, scheme_5, 4), operator_sequence=\"AB\", rows=10)\n",
    ";"
   ]
  },
  {
   "cell_type": "markdown",
   "metadata": {},
   "source": [
    "### Palindromic Schemes"
   ]
  },
  {
   "cell_type": "code",
   "execution_count": 20,
   "metadata": {
    "collapsed": false
   },
   "outputs": [
    {
     "name": "stdout",
     "output_type": "stream",
     "text": [
      "             dt         err      p         err      p\n",
      "------------------------------------------------------\n",
      "  1   1.000e+00   1.903e+00          1.230e+00\n",
      "  2   5.000e-01   2.805e-01   2.76   1.947e-01   2.66\n",
      "  3   2.500e-01   2.582e-02   3.44   1.958e-02   3.31\n",
      "  4   1.250e-01   1.609e-03   4.00   1.393e-03   3.81\n",
      "  5   6.250e-02   6.257e-05   4.68   5.982e-05   4.54\n",
      "  6   3.125e-02   1.380e-06   5.50   1.297e-06   5.53\n",
      "  7   1.563e-02   2.049e-08   6.07   1.569e-08   6.37\n",
      "  8   7.813e-03   2.925e-10   6.13   1.401e-10   6.81\n",
      "  9   3.906e-03   4.418e-12   6.05   1.133e-12   6.95\n",
      " 10   1.953e-03   6.869e-14   6.01   1.025e-14   6.79\n"
     ]
    }
   ],
   "source": [
    "set_propagate_time_together_with_A!(method, true)\n",
    "local_orders(psi, soliton, t0, tend-t0, PalindromicScheme(scheme_5, 5), operator_sequence=\"AB\", rows=10)\n",
    ";"
   ]
  },
  {
   "cell_type": "markdown",
   "metadata": {},
   "source": [
    "### Defect based error estimator"
   ]
  },
  {
   "cell_type": "markdown",
   "metadata": {},
   "source": [
    "We need the derivative with respect to $t$ of the time-dependent potential \n",
    "$$V_\\alpha(x,t)= (1-\\alpha)\\kappa|\\psi_\\mathrm{ex}(x,t)|^2=\\frac{(1-\\alpha)\\kappa a^2}{\\cosh(a(bt+x-c))^2}$$\n",
    "from above:\n",
    "$$\\frac{\\partial}{\\partial t}V_\\alpha(x,t)=\\frac{2(1-\\alpha)\\kappa a^3b\\sinh(a(bt+x-c))}{\\cosh(a(bt+x-c))^3}$$ "
   ]
  },
  {
   "cell_type": "code",
   "execution_count": 21,
   "metadata": {
    "collapsed": false
   },
   "outputs": [],
   "source": [
    "V2(x,t) = (1-α)κ*a^2./cosh(a*(b*t+x-c)).^2\n",
    "V2_derivative(x,t) = -2*(1-α)*κ*a^3*b.*sinh(a*(b*t+x-c))./cosh(a*(b*t+x-c)).^3\n",
    "\n",
    "#method = Schroedinger1D(nx, xmin, xmax, potential_t=V2, potential_t_derivative=V2_derivative, cubic_coupling=-α)\n",
    "#psi = wave_function(method)\n",
    "#psi_ref = wave_function(method)\n",
    "#set!(psi, soliton, t0)        # initial data at t=t0\n",
    "#set!(psi_ref, soliton, tend)  # reference solution at t=tend\n",
    "\n",
    "set_potential_t_derivative!(method, V2_derivative)"
   ]
  },
  {
   "cell_type": "code",
   "execution_count": 22,
   "metadata": {
    "collapsed": false
   },
   "outputs": [
    {
     "data": {
      "image/png": "[encoded data removed]",
      "text/plain": [
       "PyPlot.Figure(PyObject <matplotlib.figure.Figure object at 0x7f8e30026210>)"
      ]
     },
     "metadata": {},
     "output_type": "display_data"
    }
   ],
   "source": [
    "plot(get_nodes(method), get_potential_t_derivative(method, 0))\n",
    "hold(true)\n",
    "plot(get_nodes(method), get_potential_t_derivative(method, 1))\n",
    "hold(false)"
   ]
  },
  {
   "cell_type": "code",
   "execution_count": 23,
   "metadata": {
    "collapsed": false
   },
   "outputs": [
    {
     "name": "stdout",
     "output_type": "stream",
     "text": [
      "             dt         err      p         err      p\n",
      "------------------------------------------------------\n",
      "  1   1.000e+00   1.903e+00          2.406e+00\n",
      "  2   5.000e-01   2.805e-01   2.76   1.998e-01   3.59\n",
      "  3   2.500e-01   2.582e-02   3.44   1.418e-02   3.82\n",
      "  4   1.250e-01   1.609e-03   4.00   7.116e-04   4.32\n",
      "  5   6.250e-02   6.257e-05   4.68   2.422e-05   4.88\n",
      "  6   3.125e-02   1.380e-06   5.50   4.864e-07   5.64\n",
      "  7   1.563e-02   2.049e-08   6.07   5.567e-09   6.45\n",
      "  8   7.813e-03   2.925e-10   6.13   4.729e-11   6.88\n",
      "  9   3.906e-03   4.418e-12   6.05   3.734e-13   6.98\n",
      " 10   1.953e-03   6.869e-14   6.01   7.024e-15   5.73\n"
     ]
    }
   ],
   "source": [
    "local_orders(psi, soliton, t0, tend-t0, DefectBasedScheme(scheme_5, 5), operator_sequence=\"AB\", rows=10)\n",
    ";"
   ]
  },
  {
   "cell_type": "code",
   "execution_count": null,
   "metadata": {
    "collapsed": true
   },
   "outputs": [],
   "source": []
  }
 ],
 "metadata": {
  "kernelspec": {
   "display_name": "Julia 0.4.5",
   "language": "julia",
   "name": "julia-0.4"
  },
  "language_info": {
   "file_extension": ".jl",
   "mimetype": "application/julia",
   "name": "julia",
   "version": "0.4.5"
  }
 },
 "nbformat": 4,
 "nbformat_minor": 0
}
